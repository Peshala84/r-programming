{
 "cells": [
  {
   "cell_type": "code",
   "execution_count": null,
   "id": "94d29c19",
   "metadata": {},
   "outputs": [
    {
     "name": "stderr",
     "output_type": "stream",
     "text": [
      "Installing package into ‘/home/kavindu/R/x86_64-pc-linux-gnu-library/4.4’\n",
      "(as ‘lib’ is unspecified)\n",
      "\n",
      "also installing the dependencies ‘colorspace’, ‘farver’, ‘labeling’, ‘munsell’, ‘RColorBrewer’, ‘viridisLite’, ‘fansi’, ‘pkgconfig’, ‘gtable’, ‘isoband’, ‘scales’, ‘tibble’\n",
      "\n",
      "\n"
     ]
    }
   ],
   "source": [
    "\n",
    "\n"
   ]
  },
  {
   "cell_type": "code",
   "execution_count": null,
   "id": "86c4d917",
   "metadata": {},
   "outputs": [],
   "source": [
    "install.packages(\"ggplot2\")\n"
   ]
  },
  {
   "cell_type": "code",
   "execution_count": null,
   "id": "6475c3b9",
   "metadata": {},
   "outputs": [],
   "source": [
    "library(ggplot2)\n"
   ]
  },
  {
   "cell_type": "code",
   "execution_count": null,
   "id": "36a88048",
   "metadata": {},
   "outputs": [],
   "source": [
    "ggplot(mtcars,aes(x=wt,y=mpg))+geom_point()"
   ]
  },
  {
   "cell_type": "code",
   "execution_count": null,
   "id": "fac969ef",
   "metadata": {},
   "outputs": [],
   "source": []
  }
 ],
 "metadata": {
  "kernelspec": {
   "display_name": "R",
   "language": "R",
   "name": "ir"
  },
  "language_info": {
   "codemirror_mode": "r",
   "file_extension": ".r",
   "mimetype": "text/x-r-source",
   "name": "R",
   "pygments_lexer": "r",
   "version": "4.4.2"
  }
 },
 "nbformat": 4,
 "nbformat_minor": 5
}
